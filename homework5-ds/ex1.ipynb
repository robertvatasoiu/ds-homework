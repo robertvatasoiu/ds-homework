{
 "cells": [
  {
   "cell_type": "markdown",
   "metadata": {},
   "source": [
    "Create a model for predicting the burned area of for a forest fire using primarily meteorological data. \n",
    "\n",
    "### Notes\n",
    "\n",
    "* This is a regresion task. \n",
    "* Data link: http://archive.ics.uci.edu/ml/datasets/Forest+Fires \n",
    "* Papers using this data: http://www.dsi.uminho.pt/~pcortez/fires.pdf \n",
    "* Steps: \n",
    "    1. Download the data \n",
    "    2. Visualise the data \n",
    "    3. (If needed) clean, normalise, transform and visualise the data to get a feeling about potential relationships between the variables\n",
    "    4. Try to find the most relevant features (feature selection)\n",
    "    5. Try to create new features, i.e. transform variables, for example you could transform the area using ln(x + 1)\n",
    "    6. Agree on a metric (i.e. RMSE)\n",
    "    6. Develop a regression model (start with simple models and then grow in complexity)\n",
    "    7. Analyse the results for train + test data and compare different models"
   ]
  },
  {
   "cell_type": "code",
   "execution_count": 1,
   "metadata": {},
   "outputs": [],
   "source": [
    "import numpy as np"
   ]
  },
  {
   "cell_type": "code",
   "execution_count": null,
   "metadata": {},
   "outputs": [],
   "source": [
    "import matplotlib as mp"
   ]
  }
 ],
 "metadata": {
  "kernelspec": {
   "display_name": "Python 3.8.3 64-bit ('base': conda)",
   "metadata": {
    "interpreter": {
     "hash": "dca0ade3e726a953b501b15e8e990130d2b7799f14cfd9f4271676035ebe5511"
    }
   },
   "name": "python3"
  },
  "language_info": {
   "codemirror_mode": {
    "name": "ipython",
    "version": 3
   },
   "file_extension": ".py",
   "mimetype": "text/x-python",
   "name": "python",
   "nbconvert_exporter": "python",
   "pygments_lexer": "ipython3",
   "version": "3.8.8"
  },
  "orig_nbformat": 2
 },
 "nbformat": 4,
 "nbformat_minor": 2
}
