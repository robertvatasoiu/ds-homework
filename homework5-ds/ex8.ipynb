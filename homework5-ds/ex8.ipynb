{
 "metadata": {
  "language_info": {
   "codemirror_mode": {
    "name": "ipython",
    "version": 3
   },
   "file_extension": ".py",
   "mimetype": "text/x-python",
   "name": "python",
   "nbconvert_exporter": "python",
   "pygments_lexer": "ipython3",
   "version": 3
  },
  "orig_nbformat": 2
 },
 "nbformat": 4,
 "nbformat_minor": 2,
 "cells": [
  {
   "source": [
    "Create a model to classify people as good or bad credit risks. \n",
    "\n",
    "### Notes:\n",
    "* This is a classification problem\n",
    "* Data source: https://archive-beta.ics.uci.edu/ml/datasets/statlog+german+credit+data \n",
    "* Steps:    \n",
    "    1. Download the data\n",
    "    2. Visualise the data\n",
    "    3. (If needed) clean, normalise, transform and visualise the data to get a feeling about potential relationships between the variables\n",
    "    4. Try to find the most relevant features (feature selection)\n",
    "    5. Try to create new features\n",
    "    6. Agree on a metric (i.e. Precision and recall)\n",
    "    7. Develop a classification model (start with simple models and then grow in complexity)    \n",
    "    8. Analyse the results for train + test data and compare different models"
   ],
   "cell_type": "markdown",
   "metadata": {}
  },
  {
   "cell_type": "code",
   "execution_count": null,
   "metadata": {},
   "outputs": [],
   "source": []
  }
 ]
}