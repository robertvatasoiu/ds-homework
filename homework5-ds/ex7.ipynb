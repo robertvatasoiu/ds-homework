{
 "metadata": {
  "language_info": {
   "codemirror_mode": {
    "name": "ipython",
    "version": 3
   },
   "file_extension": ".py",
   "mimetype": "text/x-python",
   "name": "python",
   "nbconvert_exporter": "python",
   "pygments_lexer": "ipython3",
   "version": 3
  },
  "orig_nbformat": 2
 },
 "nbformat": 4,
 "nbformat_minor": 2,
 "cells": [
  {
   "source": [
    "Create multiple clustering visualisations for Asian Religious and Biblical texts \n",
    "\n",
    "### Notes:\n",
    "* This is a clustering problem\n",
    "* Data source: https://archive-beta.ics.uci.edu/ml/datasets/a+study+of+asian+religious+and+biblical+texts \n",
    "* Steps:    \n",
    "    1. Download the data\n",
    "    2. Visualise the data\n",
    "    3. (If needed) clean, normalise, transform and visualise the data to get a feeling about potential relationships between the variables\n",
    "    4. Try to find the most relevant features (feature selection)\n",
    "    5. Try to create new features (think PCA, SVD, other dimensionality reduction techniques)\n",
    "    6. Create multiple clusters (think about the Elbow method for Kmeans)\n",
    "    7. Select the number of clusters that you think is best to group the texts"
   ],
   "cell_type": "markdown",
   "metadata": {}
  },
  {
   "cell_type": "code",
   "execution_count": null,
   "metadata": {},
   "outputs": [],
   "source": []
  }
 ]
}